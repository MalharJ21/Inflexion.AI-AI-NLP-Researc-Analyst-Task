{
 "cells": [
  {
   "cell_type": "markdown",
   "id": "14841356",
   "metadata": {},
   "source": [
    "<h2> Task 1:- Technical Skills</h2>\n",
    "\n",
    "<h4>Given an input string s, find the length of the first longest substring without repeating characters.</h4>"
   ]
  },
  {
   "cell_type": "code",
   "execution_count": 31,
   "id": "0d7874b9",
   "metadata": {
    "ExecuteTime": {
     "end_time": "2023-04-24T07:25:00.080849Z",
     "start_time": "2023-04-24T07:25:00.061291Z"
    }
   },
   "outputs": [],
   "source": [
    "def longest_substring(s: str) -> (int, str):\n",
    "    char_dict = {}\n",
    "    max_len = start = 0\n",
    "    max_substring = \"\"\n",
    "    for i, c in enumerate(s):\n",
    "        if c in char_dict and char_dict[c] >= start:\n",
    "            start = char_dict[c] + 1\n",
    "        char_dict[c] = i\n",
    "        cur_substring = s[start:i+1]\n",
    "        if len(cur_substring) > len(max_substring):\n",
    "            max_substring = cur_substring\n",
    "            max_len = len(max_substring)\n",
    "    return (max_len, max_substring)"
   ]
  },
  {
   "cell_type": "markdown",
   "id": "4f56280c",
   "metadata": {},
   "source": [
    "For example, if s is \"abcabc\", the function would return (3, \"abc\")"
   ]
  },
  {
   "cell_type": "code",
   "execution_count": 38,
   "id": "d742730e",
   "metadata": {
    "ExecuteTime": {
     "end_time": "2023-04-24T07:25:08.852628Z",
     "start_time": "2023-04-24T07:25:08.829484Z"
    }
   },
   "outputs": [
    {
     "data": {
      "text/plain": [
       "(4, 'malh')"
      ]
     },
     "execution_count": 38,
     "metadata": {},
     "output_type": "execute_result"
    }
   ],
   "source": [
    "longest_substring('malhar') "
   ]
  },
  {
   "cell_type": "code",
   "execution_count": 40,
   "id": "cc19aa58",
   "metadata": {
    "ExecuteTime": {
     "end_time": "2023-04-24T07:25:10.955463Z",
     "start_time": "2023-04-24T07:25:10.939807Z"
    }
   },
   "outputs": [
    {
     "data": {
      "text/plain": [
       "(7, 'hey mal')"
      ]
     },
     "execution_count": 40,
     "metadata": {},
     "output_type": "execute_result"
    }
   ],
   "source": [
    "longest_substring('hey malhar')"
   ]
  },
  {
   "cell_type": "code",
   "execution_count": 42,
   "id": "ce20022f",
   "metadata": {
    "ExecuteTime": {
     "end_time": "2023-04-24T07:25:13.615697Z",
     "start_time": "2023-04-24T07:25:13.595809Z"
    }
   },
   "outputs": [
    {
     "data": {
      "text/plain": [
       "(11, 'your techni')"
      ]
     },
     "execution_count": 42,
     "metadata": {},
     "output_type": "execute_result"
    }
   ],
   "source": [
    "longest_substring(\"The test will push you to demonstrate your technical skills\")"
   ]
  },
  {
   "cell_type": "markdown",
   "id": "93620a5c",
   "metadata": {
    "ExecuteTime": {
     "end_time": "2023-04-24T07:25:41.323618Z",
     "start_time": "2023-04-24T07:25:41.308088Z"
    }
   },
   "source": [
    "<center><h3>Thank You</h3></center>"
   ]
  }
 ],
 "metadata": {
  "kernelspec": {
   "display_name": "Python 3 (ipykernel)",
   "language": "python",
   "name": "python3"
  },
  "language_info": {
   "codemirror_mode": {
    "name": "ipython",
    "version": 3
   },
   "file_extension": ".py",
   "mimetype": "text/x-python",
   "name": "python",
   "nbconvert_exporter": "python",
   "pygments_lexer": "ipython3",
   "version": "3.9.12"
  }
 },
 "nbformat": 4,
 "nbformat_minor": 5
}

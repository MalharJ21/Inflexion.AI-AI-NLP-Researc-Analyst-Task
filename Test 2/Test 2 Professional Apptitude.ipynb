{
 "cells": [
  {
   "cell_type": "markdown",
   "id": "bbc62d76",
   "metadata": {
    "ExecuteTime": {
     "end_time": "2023-04-24T07:51:17.856639Z",
     "start_time": "2023-04-24T07:51:17.834402Z"
    }
   },
   "source": [
    "<h2> Task 2:- Professional Aptitude</h2>\n",
    "\n",
    "<h4>Information Density Sentence Sorting. Implement a program in Python that sorts sentences in a given text by their information density. The sentences should be sorted in descending order, with the most information-dense sentence appearing first.</h4>"
   ]
  },
  {
   "cell_type": "code",
   "execution_count": 2,
   "id": "7d6b1106",
   "metadata": {
    "ExecuteTime": {
     "end_time": "2023-04-24T07:49:40.466175Z",
     "start_time": "2023-04-24T07:49:38.698405Z"
    }
   },
   "outputs": [
    {
     "name": "stdout",
     "output_type": "stream",
     "text": [
      "Please Enter the text here \n",
      "\n",
      "We're looking for individuals who are ready to take on challenges, work collaboratively, and learn from the experience. The questions are crafted to assess your understanding of the subject matter and your ability to apply your knowledge in practical situations, so be sure to showcase your expertise and skills.  This is a great opportunity to showcase your potential and gain valuable experience in your field. We want to see your best work, so take your time, stay focused, and do your best. And don't forget to enjoy the experience!\n"
     ]
    }
   ],
   "source": [
    "text=input('Please Enter the text here \\n\\n')"
   ]
  },
  {
   "cell_type": "code",
   "execution_count": 14,
   "id": "c7c35830",
   "metadata": {
    "ExecuteTime": {
     "end_time": "2023-04-24T07:50:12.743613Z",
     "start_time": "2023-04-24T07:50:12.717860Z"
    }
   },
   "outputs": [
    {
     "name": "stdout",
     "output_type": "stream",
     "text": [
      "['We want to see your best work, so take your time, stay focused, and do your best.', 'The questions are crafted to assess your understanding of the subject matter and your ability to apply your knowledge in practical situations, so be sure to showcase your expertise and skills.', 'This is a great opportunity to showcase your potential and gain valuable experience in your field.', \"We're looking for individuals who are ready to take on challenges, work collaboratively, and learn from the experience.\", \"And don't forget to enjoy the experience!\"]\n"
     ]
    }
   ],
   "source": [
    "import nltk\n",
    "from nltk.tokenize import sent_tokenize, word_tokenize\n",
    "\n",
    "def calculate_information_density(sentence):\n",
    "    words = word_tokenize(sentence)\n",
    "    num_words = len(words)\n",
    "    num_unique_words = len(set(words))\n",
    "    return num_words / num_unique_words\n",
    "\n",
    "def sort_sentences_by_information_density(text):\n",
    "    sentences = sent_tokenize(text)\n",
    "    sentence_density_pairs = [(sentence, calculate_information_density(sentence)) for sentence in sentences]\n",
    "    sorted_pairs = sorted(sentence_density_pairs, key=lambda pair: pair[1], reverse=True)\n",
    "    sorted_sentences = [pair[0] for pair in sorted_pairs]\n",
    "    return sorted_sentences\n",
    "\n",
    "sorted_sentences = sort_sentences_by_information_density(text)\n",
    "print(sorted_sentences)"
   ]
  },
  {
   "cell_type": "markdown",
   "id": "7ea269a8",
   "metadata": {
    "ExecuteTime": {
     "end_time": "2023-04-24T07:51:53.339096Z",
     "start_time": "2023-04-24T07:51:53.314482Z"
    }
   },
   "source": [
    "<center><h3>Thank You</h3></center>"
   ]
  }
 ],
 "metadata": {
  "kernelspec": {
   "display_name": "Python 3 (ipykernel)",
   "language": "python",
   "name": "python3"
  },
  "language_info": {
   "codemirror_mode": {
    "name": "ipython",
    "version": 3
   },
   "file_extension": ".py",
   "mimetype": "text/x-python",
   "name": "python",
   "nbconvert_exporter": "python",
   "pygments_lexer": "ipython3",
   "version": "3.9.12"
  }
 },
 "nbformat": 4,
 "nbformat_minor": 5
}

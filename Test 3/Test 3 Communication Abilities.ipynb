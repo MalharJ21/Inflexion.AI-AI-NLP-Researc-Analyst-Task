{
 "cells": [
  {
   "cell_type": "markdown",
   "id": "a8591213",
   "metadata": {
    "ExecuteTime": {
     "end_time": "2023-04-24T08:13:26.438161Z",
     "start_time": "2023-04-24T08:13:26.425132Z"
    }
   },
   "source": [
    "<h2> Task 3:- Communication Abilities</h2>\n",
    "\n",
    "<h4>Sentence Combination\n",
    "Implement a program in Python that combines two sentences into one, retaining the information from both sentences. The combined sentence should preserve the meaning and context of both input sentences</h4>"
   ]
  },
  {
   "cell_type": "code",
   "execution_count": 10,
   "id": "fd20b5a4",
   "metadata": {
    "ExecuteTime": {
     "end_time": "2023-04-25T03:52:46.633072Z",
     "start_time": "2023-04-25T03:52:46.616922Z"
    }
   },
   "outputs": [],
   "source": [
    "def combine_sentences(sentence1, sentence2):\n",
    "    # Split sentences into lists of words\n",
    "    words1 = sentence1.split()\n",
    "    words2 = sentence2.split()\n",
    "\n",
    "    # If last word of sentence1 matches first word of sentence2, remove first word of sentence2\n",
    "    if words1[-1] == words2[0]:\n",
    "        words2 = words2[1:]\n",
    "\n",
    "    # Combine words from both sentences\n",
    "    combined_words = words1 + words2\n",
    "\n",
    "    # Convert words back into a string\n",
    "    combined_sentence = ' '.join(combined_words)\n",
    "\n",
    "    return combined_sentence\n"
   ]
  },
  {
   "cell_type": "code",
   "execution_count": 11,
   "id": "ec10755d",
   "metadata": {
    "ExecuteTime": {
     "end_time": "2023-04-25T03:53:24.012632Z",
     "start_time": "2023-04-25T03:53:23.992556Z"
    }
   },
   "outputs": [
    {
     "name": "stdout",
     "output_type": "stream",
     "text": [
      "I love playing soccer Soccer is the most popular sport in the world\n"
     ]
    }
   ],
   "source": [
    "sentence1 = \"I love playing soccer\"\n",
    "sentence2 = \"Soccer is the most popular sport in the world\"\n",
    "combined_sentence = combine_sentences(sentence1, sentence2)\n",
    "print(combined_sentence)"
   ]
  },
  {
   "cell_type": "markdown",
   "id": "493eff79",
   "metadata": {},
   "source": [
    "<center><h3>Thank You</h3></center>"
   ]
  }
 ],
 "metadata": {
  "kernelspec": {
   "display_name": "Python 3 (ipykernel)",
   "language": "python",
   "name": "python3"
  },
  "language_info": {
   "codemirror_mode": {
    "name": "ipython",
    "version": 3
   },
   "file_extension": ".py",
   "mimetype": "text/x-python",
   "name": "python",
   "nbconvert_exporter": "python",
   "pygments_lexer": "ipython3",
   "version": "3.9.12"
  }
 },
 "nbformat": 4,
 "nbformat_minor": 5
}

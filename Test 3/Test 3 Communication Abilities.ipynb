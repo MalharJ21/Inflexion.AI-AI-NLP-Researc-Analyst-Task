{
 "cells": [
  {
   "cell_type": "markdown",
   "id": "a8591213",
   "metadata": {
    "ExecuteTime": {
     "end_time": "2023-04-24T08:13:26.438161Z",
     "start_time": "2023-04-24T08:13:26.425132Z"
    }
   },
   "source": [
    "<h2> Task 3:- Communication Abilities</h2>\n",
    "\n",
    "<h4>Sentence Combination\n",
    "Implement a program in Python that combines two sentences into one, retaining the information from both sentences. The combined sentence should preserve the meaning and context of both input sentences</h4>"
   ]
  },
  {
   "cell_type": "code",
   "execution_count": 1,
   "id": "fd20b5a4",
   "metadata": {
    "ExecuteTime": {
     "end_time": "2023-04-25T06:11:57.122337Z",
     "start_time": "2023-04-25T06:11:57.092774Z"
    }
   },
   "outputs": [
    {
     "name": "stdout",
     "output_type": "stream",
     "text": [
      "The quick brown fox jumps over the lazy dog\n"
     ]
    }
   ],
   "source": [
    "sentence1 = \"The quick brown fox\"\n",
    "sentence2 = \"fox jumps over the lazy dog\"\n",
    "\n",
    "words1 = sentence1.split()\n",
    "words2 = sentence2.split()\n",
    "\n",
    "if words1[-1] == words2[0]:\n",
    "    words2 = words2[1:]\n",
    "\n",
    "combined_sentence = ' '.join(words1 + words2)\n",
    "print(combined_sentence)\n"
   ]
  },
  {
   "cell_type": "markdown",
   "id": "59135314",
   "metadata": {},
   "source": [
    "In this example, the last word of sentence1 is \"fox\" and the first word of sentence2 is also \"fox\", so the word \"fox\" is removed from words2. The resulting words1 and words2 lists are then joined together to form the combined_sentence which is printed as output."
   ]
  },
  {
   "cell_type": "markdown",
   "id": "269bc5c5",
   "metadata": {},
   "source": [
    "Using a Colon"
   ]
  },
  {
   "cell_type": "code",
   "execution_count": 16,
   "id": "578f41b7",
   "metadata": {
    "ExecuteTime": {
     "end_time": "2023-04-25T05:24:27.986228Z",
     "start_time": "2023-04-25T05:24:27.978857Z"
    }
   },
   "outputs": [],
   "source": [
    "def combine_sentences(sentence1, sentence2):\n",
    "    # If the last word of sentence1 matches the first word of sentence2, remove the first word of sentence2\n",
    "    if sentence1.split()[-1] == sentence2.split()[0]:\n",
    "        sentence2 = ' '.join(sentence2.split()[1:])\n",
    "\n",
    "    # Add a colon to connect the two sentences\n",
    "    combined_sentence = sentence1 + ': ' + sentence2\n",
    "\n",
    "    return combined_sentence\n"
   ]
  },
  {
   "cell_type": "code",
   "execution_count": 17,
   "id": "bd3292a5",
   "metadata": {
    "ExecuteTime": {
     "end_time": "2023-04-25T05:25:18.529630Z",
     "start_time": "2023-04-25T05:25:18.522924Z"
    }
   },
   "outputs": [
    {
     "name": "stdout",
     "output_type": "stream",
     "text": [
      "I love playing soccer: Soccer is the most popular sport in the world\n"
     ]
    }
   ],
   "source": [
    "sentence1 = \"I love playing soccer\"\n",
    "sentence2 = \"Soccer is the most popular sport in the world\"\n",
    "combined_sentence = combine_sentences(sentence1, sentence2)\n",
    "print(combined_sentence)"
   ]
  },
  {
   "cell_type": "markdown",
   "id": "493eff79",
   "metadata": {},
   "source": [
    "<center><h3>Thank You</h3></center>"
   ]
  }
 ],
 "metadata": {
  "kernelspec": {
   "display_name": "Python 3 (ipykernel)",
   "language": "python",
   "name": "python3"
  },
  "language_info": {
   "codemirror_mode": {
    "name": "ipython",
    "version": 3
   },
   "file_extension": ".py",
   "mimetype": "text/x-python",
   "name": "python",
   "nbconvert_exporter": "python",
   "pygments_lexer": "ipython3",
   "version": "3.9.12"
  }
 },
 "nbformat": 4,
 "nbformat_minor": 5
}

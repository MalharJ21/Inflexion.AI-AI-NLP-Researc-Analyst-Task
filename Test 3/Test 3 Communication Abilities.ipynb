{
 "cells": [
  {
   "cell_type": "markdown",
   "id": "a8591213",
   "metadata": {
    "ExecuteTime": {
     "end_time": "2023-04-24T08:13:26.438161Z",
     "start_time": "2023-04-24T08:13:26.425132Z"
    }
   },
   "source": [
    "<h2> Task 3:- Communication Abilities</h2>\n",
    "\n",
    "<h4>Sentence Combination\n",
    "Implement a program in Python that combines two sentences into one, retaining the information from both sentences. The combined sentence should preserve the meaning and context of both input sentences</h4>"
   ]
  },
  {
   "cell_type": "code",
   "execution_count": 20,
   "id": "4fb4e561",
   "metadata": {
    "ExecuteTime": {
     "end_time": "2023-04-25T10:04:27.262002Z",
     "start_time": "2023-04-25T10:04:27.241223Z"
    }
   },
   "outputs": [],
   "source": [
    "\n",
    "import nltk\n",
    "\n",
    "def combine_sentences(sentence1, sentence2):\n",
    "    tokens1 = nltk.word_tokenize(sentence1)\n",
    "    tokens2 = nltk.word_tokenize(sentence2)\n",
    "    tagged1 = nltk.pos_tag(tokens1)\n",
    "    tagged2 = nltk.pos_tag(tokens2)\n",
    "    entities1 = nltk.chunk.ne_chunk(tagged1)\n",
    "    entities2 = nltk.chunk.ne_chunk(tagged2)\n",
    "    subject1 = None\n",
    "    subject2 = None\n",
    "    verb1 = None\n",
    "    verb2 = None\n",
    "    object1 = None\n",
    "    object2 = None\n",
    "    for subtree in entities1.subtrees():\n",
    "        if subtree.label() == 'NP':\n",
    "            subject1 = ' '.join(word for word, pos in subtree.leaves())\n",
    "        elif subtree.label() == 'VP':\n",
    "            verb1 = ' '.join(word for word, pos in subtree.leaves())\n",
    "        elif subtree.label() == 'PP':\n",
    "            object1 = ' '.join(word for word, pos in subtree.leaves())\n",
    "    for subtree in entities2.subtrees():\n",
    "        if subtree.label() == 'NP':\n",
    "            subject2 = ' '.join(word for word, pos in subtree.leaves())\n",
    "        elif subtree.label() == 'VP':\n",
    "            verb2 = ' '.join(word for word, pos in subtree.leaves())\n",
    "        elif subtree.label() == 'PP':\n",
    "            object2 = ' '.join(word for word, pos in subtree.leaves())\n",
    "    if object1 is not None:\n",
    "        sentence = subject1 + ' ' + verb1 + ' ' + object1 + ' ' + verb2 + ' ' + ' '.join(tokens2[tokens2.index(object2) + 1:])\n",
    "    elif object2 is not None:\n",
    "        sentence = subject1 + ' ' + verb1 + ' ' + subject2 + ' ' + verb2 + ' ' + object2 + ' ' + ' '.join(tokens2[tokens2.index(object2) + 1:])\n",
    "    else:\n",
    "        sentence = subject1 + ' ' + verb1 + ' ' + subject2 + ' ' + verb2 + ' ' + ' '.join(tokens2[tokens2.index(verb2) + 1:])\n",
    "    return sentence"
   ]
  },
  {
   "cell_type": "code",
   "execution_count": 24,
   "id": "5efe7f25",
   "metadata": {
    "ExecuteTime": {
     "end_time": "2023-04-25T10:06:49.385076Z",
     "start_time": "2023-04-25T10:06:49.361257Z"
    }
   },
   "outputs": [],
   "source": [
    "import re\n",
    "\n",
    "def combine_sentences(sentence1, sentence2):\n",
    "    # Remove punctuation from both sentences\n",
    "    sentence1 = re.sub(r'[^\\w\\s]', '', sentence1)\n",
    "    sentence2 = re.sub(r'[^\\w\\s]', '', sentence2)\n",
    "\n",
    "    # Split both sentences into individual words\n",
    "    words1 = sentence1.split()\n",
    "    words2 = sentence2.split()\n",
    "\n",
    "    # Find the common words between the two sentences\n",
    "    common_words = set(words1) & set(words2)\n",
    "\n",
    "    # Create a list of words from sentence1, removing the common words\n",
    "    unique_words1 = [word for word in words1 if word not in common_words]\n",
    "\n",
    "    # Create a list of words from sentence2, removing the common words\n",
    "    unique_words2 = [word for word in words2 if word not in common_words]\n",
    "\n",
    "    # Combine the unique words from both sentences\n",
    "    combined_sentence = ' '.join(unique_words1 + unique_words2)\n",
    "\n",
    "    # Add the common words back into the sentence\n",
    "    for word in common_words:\n",
    "        combined_sentence += ' ' + word\n",
    "\n",
    "    # Capitalize the first letter of the sentence\n",
    "    combined_sentence = combined_sentence[0].capitalize() + combined_sentence[1:]\n",
    "\n",
    "    # Add a period at the end of the sentence, if it doesn't already have one\n",
    "    if combined_sentence[-1] != '.':\n",
    "        combined_sentence += '.'\n",
    "\n",
    "    return combined_sentence\n"
   ]
  },
  {
   "cell_type": "markdown",
   "id": "493eff79",
   "metadata": {},
   "source": [
    "<center><h3>Thank You</h3></center>"
   ]
  }
 ],
 "metadata": {
  "kernelspec": {
   "display_name": "Python 3 (ipykernel)",
   "language": "python",
   "name": "python3"
  },
  "language_info": {
   "codemirror_mode": {
    "name": "ipython",
    "version": 3
   },
   "file_extension": ".py",
   "mimetype": "text/x-python",
   "name": "python",
   "nbconvert_exporter": "python",
   "pygments_lexer": "ipython3",
   "version": "3.9.12"
  }
 },
 "nbformat": 4,
 "nbformat_minor": 5
}

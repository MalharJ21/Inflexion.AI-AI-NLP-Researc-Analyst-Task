{
 "cells": [
  {
   "cell_type": "markdown",
   "id": "a8591213",
   "metadata": {
    "ExecuteTime": {
     "end_time": "2023-04-24T08:13:26.438161Z",
     "start_time": "2023-04-24T08:13:26.425132Z"
    }
   },
   "source": [
    "<h2> Task 3:- Communication Abilities</h2>\n",
    "\n",
    "<h4>Sentence Combination\n",
    "Implement a program in Python that combines two sentences into one, retaining the information from both sentences. The combined sentence should preserve the meaning and context of both input sentences</h4>"
   ]
  },
  {
   "cell_type": "code",
   "execution_count": 21,
   "id": "fd20b5a4",
   "metadata": {
    "ExecuteTime": {
     "end_time": "2023-04-24T08:10:48.318375Z",
     "start_time": "2023-04-24T08:10:48.300869Z"
    }
   },
   "outputs": [
    {
     "name": "stdout",
     "output_type": "stream",
     "text": [
      "I love playing Cricket but Badminton is also my favorite sport.\n"
     ]
    }
   ],
   "source": [
    "sentence1 = \"I love playing Cricket\"\n",
    "sentence2 = \"but Badminton is also my favorite sport.\"\n",
    "\n",
    "\n",
    "# Split the sentences into a list of words\n",
    "words1 = sentence1.split()\n",
    "words2 = sentence2.split()\n",
    "\n",
    "if words1[-1] == words2[0]:\n",
    "    words2.pop(0)\n",
    "combined_sentence = \" \".join(words1 + words2)\n",
    "\n",
    "# Print the combined sentence\n",
    "print(combined_sentence)\n"
   ]
  },
  {
   "cell_type": "markdown",
   "id": "493eff79",
   "metadata": {},
   "source": [
    "<center><h3>Thank You</h3></center>"
   ]
  }
 ],
 "metadata": {
  "kernelspec": {
   "display_name": "Python 3 (ipykernel)",
   "language": "python",
   "name": "python3"
  },
  "language_info": {
   "codemirror_mode": {
    "name": "ipython",
    "version": 3
   },
   "file_extension": ".py",
   "mimetype": "text/x-python",
   "name": "python",
   "nbconvert_exporter": "python",
   "pygments_lexer": "ipython3",
   "version": "3.9.12"
  }
 },
 "nbformat": 4,
 "nbformat_minor": 5
}
